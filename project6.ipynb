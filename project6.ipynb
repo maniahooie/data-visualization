{
 "cells": [
  {
   "cell_type": "code",
   "execution_count": 1,
   "id": "0000acec",
   "metadata": {
    "tags": []
   },
   "outputs": [],
   "source": [
    "import matplotlib.pyplot as plt\n",
    "import numpy as np\n",
    "import pandas as pd\n",
    "import seaborn as sns"
   ]
  },
  {
   "cell_type": "code",
   "execution_count": 21,
   "id": "dc77d70f",
   "metadata": {
    "tags": []
   },
   "outputs": [
    {
     "data": {
      "text/html": [
       "<div>\n",
       "<style scoped>\n",
       "    .dataframe tbody tr th:only-of-type {\n",
       "        vertical-align: middle;\n",
       "    }\n",
       "\n",
       "    .dataframe tbody tr th {\n",
       "        vertical-align: top;\n",
       "    }\n",
       "\n",
       "    .dataframe thead th {\n",
       "        text-align: right;\n",
       "    }\n",
       "</style>\n",
       "<table border=\"1\" class=\"dataframe\">\n",
       "  <thead>\n",
       "    <tr style=\"text-align: right;\">\n",
       "      <th></th>\n",
       "      <th>row</th>\n",
       "      <th>daily_study_hours</th>\n",
       "      <th>weekly_study_hours</th>\n",
       "      <th>montly_study_hours</th>\n",
       "      <th>season_study_hours</th>\n",
       "      <th>total_study_hours</th>\n",
       "    </tr>\n",
       "  </thead>\n",
       "  <tbody>\n",
       "    <tr>\n",
       "      <th>0</th>\n",
       "      <td>1.0</td>\n",
       "      <td>2.40</td>\n",
       "      <td>30.0</td>\n",
       "      <td>139.41</td>\n",
       "      <td>405.0</td>\n",
       "      <td>537.15</td>\n",
       "    </tr>\n",
       "    <tr>\n",
       "      <th>1</th>\n",
       "      <td>2.0</td>\n",
       "      <td>4.45</td>\n",
       "      <td>NaN</td>\n",
       "      <td>NaN</td>\n",
       "      <td>NaN</td>\n",
       "      <td>NaN</td>\n",
       "    </tr>\n",
       "    <tr>\n",
       "      <th>2</th>\n",
       "      <td>3.0</td>\n",
       "      <td>6.20</td>\n",
       "      <td>NaN</td>\n",
       "      <td>NaN</td>\n",
       "      <td>NaN</td>\n",
       "      <td>NaN</td>\n",
       "    </tr>\n",
       "    <tr>\n",
       "      <th>3</th>\n",
       "      <td>4.0</td>\n",
       "      <td>2.45</td>\n",
       "      <td>NaN</td>\n",
       "      <td>NaN</td>\n",
       "      <td>NaN</td>\n",
       "      <td>NaN</td>\n",
       "    </tr>\n",
       "    <tr>\n",
       "      <th>4</th>\n",
       "      <td>5.0</td>\n",
       "      <td>2.45</td>\n",
       "      <td>NaN</td>\n",
       "      <td>NaN</td>\n",
       "      <td>NaN</td>\n",
       "      <td>NaN</td>\n",
       "    </tr>\n",
       "    <tr>\n",
       "      <th>...</th>\n",
       "      <td>...</td>\n",
       "      <td>...</td>\n",
       "      <td>...</td>\n",
       "      <td>...</td>\n",
       "      <td>...</td>\n",
       "      <td>...</td>\n",
       "    </tr>\n",
       "    <tr>\n",
       "      <th>121</th>\n",
       "      <td>NaN</td>\n",
       "      <td>NaN</td>\n",
       "      <td>NaN</td>\n",
       "      <td>NaN</td>\n",
       "      <td>NaN</td>\n",
       "      <td>NaN</td>\n",
       "    </tr>\n",
       "    <tr>\n",
       "      <th>122</th>\n",
       "      <td>NaN</td>\n",
       "      <td>NaN</td>\n",
       "      <td>NaN</td>\n",
       "      <td>NaN</td>\n",
       "      <td>NaN</td>\n",
       "      <td>NaN</td>\n",
       "    </tr>\n",
       "    <tr>\n",
       "      <th>123</th>\n",
       "      <td>NaN</td>\n",
       "      <td>NaN</td>\n",
       "      <td>NaN</td>\n",
       "      <td>NaN</td>\n",
       "      <td>NaN</td>\n",
       "      <td>NaN</td>\n",
       "    </tr>\n",
       "    <tr>\n",
       "      <th>124</th>\n",
       "      <td>NaN</td>\n",
       "      <td>NaN</td>\n",
       "      <td>NaN</td>\n",
       "      <td>NaN</td>\n",
       "      <td>NaN</td>\n",
       "      <td>NaN</td>\n",
       "    </tr>\n",
       "    <tr>\n",
       "      <th>125</th>\n",
       "      <td>NaN</td>\n",
       "      <td>NaN</td>\n",
       "      <td>NaN</td>\n",
       "      <td>NaN</td>\n",
       "      <td>NaN</td>\n",
       "      <td>NaN</td>\n",
       "    </tr>\n",
       "  </tbody>\n",
       "</table>\n",
       "<p>126 rows × 6 columns</p>\n",
       "</div>"
      ],
      "text/plain": [
       "     row  daily_study_hours  weekly_study_hours  montly_study_hours  \\\n",
       "0    1.0               2.40                30.0              139.41   \n",
       "1    2.0               4.45                 NaN                 NaN   \n",
       "2    3.0               6.20                 NaN                 NaN   \n",
       "3    4.0               2.45                 NaN                 NaN   \n",
       "4    5.0               2.45                 NaN                 NaN   \n",
       "..   ...                ...                 ...                 ...   \n",
       "121  NaN                NaN                 NaN                 NaN   \n",
       "122  NaN                NaN                 NaN                 NaN   \n",
       "123  NaN                NaN                 NaN                 NaN   \n",
       "124  NaN                NaN                 NaN                 NaN   \n",
       "125  NaN                NaN                 NaN                 NaN   \n",
       "\n",
       "     season_study_hours  total_study_hours  \n",
       "0                 405.0             537.15  \n",
       "1                   NaN                NaN  \n",
       "2                   NaN                NaN  \n",
       "3                   NaN                NaN  \n",
       "4                   NaN                NaN  \n",
       "..                  ...                ...  \n",
       "121                 NaN                NaN  \n",
       "122                 NaN                NaN  \n",
       "123                 NaN                NaN  \n",
       "124                 NaN                NaN  \n",
       "125                 NaN                NaN  \n",
       "\n",
       "[126 rows x 6 columns]"
      ]
     },
     "execution_count": 21,
     "metadata": {},
     "output_type": "execute_result"
    }
   ],
   "source": [
    "data = pd.read_csv('pro6.csv')\n",
    "data"
   ]
  },
  {
   "cell_type": "code",
   "execution_count": 3,
   "id": "337db40c",
   "metadata": {
    "tags": []
   },
   "outputs": [
    {
     "data": {
      "text/plain": [
       "0      2.40\n",
       "1      4.45\n",
       "2      6.20\n",
       "3      2.45\n",
       "4      2.45\n",
       "       ... \n",
       "115    4.00\n",
       "116    5.00\n",
       "117    4.00\n",
       "118    6.00\n",
       "119    5.00\n",
       "Name: daily_study_hours, Length: 120, dtype: float64"
      ]
     },
     "execution_count": 3,
     "metadata": {},
     "output_type": "execute_result"
    }
   ],
   "source": [
    "data.daily_study_hours[:120]"
   ]
  },
  {
   "cell_type": "code",
   "execution_count": 4,
   "id": "af3357d3",
   "metadata": {
    "tags": []
   },
   "outputs": [],
   "source": [
    "mat = np.array([data.daily_study_hours[:120]])"
   ]
  },
  {
   "cell_type": "code",
   "execution_count": 5,
   "id": "c7318ac8",
   "metadata": {
    "tags": []
   },
   "outputs": [
    {
     "data": {
      "text/plain": [
       "array([[2.4 , 4.45, 6.2 , 2.45, 2.45, 6.  , 4.45, 4.35, 4.  , 5.  , 6.1 ,\n",
       "        6.4 , 3.  , 4.  , 8.  , 5.25, 3.1 , 3.3 , 3.3 , 6.5 , 6.5 , 7.  ,\n",
       "        5.15, 7.  , 7.25, 5.  , 4.35, 2.5 , 5.5 , 6.3 , 4.3 , 8.4 , 6.4 ,\n",
       "        4.3 , 5.  , 5.15, 3.4 , 3.5 , 5.  , 4.15, 8.45, 2.45, 6.  , 3.  ,\n",
       "        5.  , 6.1 , 5.2 , 5.  , 1.45, 6.15, 5.15, 6.  , 4.  , 7.15, 5.15,\n",
       "        7.  , 2.  , 4.  , 1.3 , 1.3 , 5.3 , 5.3 , 4.45, 4.3 , 3.15, 3.15,\n",
       "        3.3 , 5.3 , 5.45, 5.  , 5.  , 4.  , 3.3 , 3.3 , 6.15, 6.  , 6.2 ,\n",
       "        2.45, 2.3 , 3.45, 4.5 , 4.  , 2.35, 6.15, 6.  , 5.15, 3.  , 5.  ,\n",
       "        3.45, 6.15, 3.3 , 2.3 , 6.  , 4.1 , 3.  , 3.  , 3.  , 4.  , 2.2 ,\n",
       "        2.35, 4.  , 2.  , 2.  , 3.  , 2.4 , 5.  , 2.  , 4.  , 2.  , 2.  ,\n",
       "        2.3 , 3.  , 2.  , 4.3 , 4.15, 4.  , 5.  , 4.  , 6.  , 5.  ]])"
      ]
     },
     "execution_count": 5,
     "metadata": {},
     "output_type": "execute_result"
    }
   ],
   "source": [
    "mat"
   ]
  },
  {
   "cell_type": "code",
   "execution_count": 6,
   "id": "e7c9c772",
   "metadata": {
    "tags": []
   },
   "outputs": [
    {
     "data": {
      "text/plain": [
       "(1, 120)"
      ]
     },
     "execution_count": 6,
     "metadata": {},
     "output_type": "execute_result"
    }
   ],
   "source": [
    "mat.shape"
   ]
  },
  {
   "cell_type": "code",
   "execution_count": 7,
   "id": "66bb6182",
   "metadata": {
    "tags": []
   },
   "outputs": [],
   "source": [
    "mat1 = mat.reshape(4,30)"
   ]
  },
  {
   "cell_type": "code",
   "execution_count": 8,
   "id": "6ff008e9",
   "metadata": {
    "tags": []
   },
   "outputs": [
    {
     "data": {
      "text/plain": [
       "array([[2.4 , 4.45, 6.2 , 2.45, 2.45, 6.  , 4.45, 4.35, 4.  , 5.  , 6.1 ,\n",
       "        6.4 , 3.  , 4.  , 8.  , 5.25, 3.1 , 3.3 , 3.3 , 6.5 , 6.5 , 7.  ,\n",
       "        5.15, 7.  , 7.25, 5.  , 4.35, 2.5 , 5.5 , 6.3 ],\n",
       "       [4.3 , 8.4 , 6.4 , 4.3 , 5.  , 5.15, 3.4 , 3.5 , 5.  , 4.15, 8.45,\n",
       "        2.45, 6.  , 3.  , 5.  , 6.1 , 5.2 , 5.  , 1.45, 6.15, 5.15, 6.  ,\n",
       "        4.  , 7.15, 5.15, 7.  , 2.  , 4.  , 1.3 , 1.3 ],\n",
       "       [5.3 , 5.3 , 4.45, 4.3 , 3.15, 3.15, 3.3 , 5.3 , 5.45, 5.  , 5.  ,\n",
       "        4.  , 3.3 , 3.3 , 6.15, 6.  , 6.2 , 2.45, 2.3 , 3.45, 4.5 , 4.  ,\n",
       "        2.35, 6.15, 6.  , 5.15, 3.  , 5.  , 3.45, 6.15],\n",
       "       [3.3 , 2.3 , 6.  , 4.1 , 3.  , 3.  , 3.  , 4.  , 2.2 , 2.35, 4.  ,\n",
       "        2.  , 2.  , 3.  , 2.4 , 5.  , 2.  , 4.  , 2.  , 2.  , 2.3 , 3.  ,\n",
       "        2.  , 4.3 , 4.15, 4.  , 5.  , 4.  , 6.  , 5.  ]])"
      ]
     },
     "execution_count": 8,
     "metadata": {},
     "output_type": "execute_result"
    }
   ],
   "source": [
    "mat1"
   ]
  },
  {
   "cell_type": "code",
   "execution_count": 9,
   "id": "29024ad6",
   "metadata": {
    "tags": []
   },
   "outputs": [
    {
     "data": {
      "text/plain": [
       "[147.25000000000003, 141.45000000000002, 132.6, 101.4]"
      ]
     },
     "execution_count": 9,
     "metadata": {},
     "output_type": "execute_result"
    }
   ],
   "source": [
    "study_hours_sum = []\n",
    "for i in range(len(mat1)):\n",
    "    study_hours_sum.append(mat1[i,:].sum())\n",
    "study_hours_sum"
   ]
  },
  {
   "cell_type": "code",
   "execution_count": 10,
   "id": "80647b0e",
   "metadata": {
    "tags": []
   },
   "outputs": [],
   "source": [
    "months = ['first_month', 'second_month', 'third_month', 'fourth_month']\n"
   ]
  },
  {
   "cell_type": "code",
   "execution_count": 11,
   "id": "bacc544a",
   "metadata": {
    "tags": []
   },
   "outputs": [
    {
     "data": {
      "text/plain": [
       "<Axes: >"
      ]
     },
     "execution_count": 11,
     "metadata": {},
     "output_type": "execute_result"
    },
    {
     "data": {
      "image/png": "[encoded data removed]",
      "text/plain": [
       "<Figure size 640x480 with 1 Axes>"
      ]
     },
     "metadata": {},
     "output_type": "display_data"
    }
   ],
   "source": [
    "\n",
    "sns.barplot(x = months, y = study_hours_sum)\n"
   ]
  },
  {
   "cell_type": "code",
   "execution_count": 12,
   "id": "26d93bbd",
   "metadata": {
    "tags": []
   },
   "outputs": [
    {
     "data": {
      "image/png": "[encoded data removed]",
      "text/plain": [
       "<Figure size 640x480 with 1 Axes>"
      ]
     },
     "metadata": {},
     "output_type": "display_data"
    }
   ],
   "source": [
    "plt.pie(study_hours_sum, labels = months, explode = [0.1, 0, 0, 0])\n",
    "plt.show()"
   ]
  },
  {
   "cell_type": "code",
   "execution_count": 41,
   "id": "b9f12281",
   "metadata": {},
   "outputs": [
    {
     "data": {
      "text/plain": [
       "8.45"
      ]
     },
     "execution_count": 41,
     "metadata": {},
     "output_type": "execute_result"
    }
   ],
   "source": [
    "mat1.max()"
   ]
  },
  {
   "cell_type": "code",
   "execution_count": 30,
   "id": "62a0b142",
   "metadata": {},
   "outputs": [
    {
     "data": {
      "text/plain": [
       "1.3"
      ]
     },
     "execution_count": 30,
     "metadata": {},
     "output_type": "execute_result"
    }
   ],
   "source": [
    "mat1.min()"
   ]
  },
  {
   "cell_type": "code",
   "execution_count": 35,
   "id": "21bfd561",
   "metadata": {},
   "outputs": [
    {
     "data": {
      "text/plain": [
       "4.3"
      ]
     },
     "execution_count": 35,
     "metadata": {},
     "output_type": "execute_result"
    }
   ],
   "source": [
    "np.median(mat1)"
   ]
  },
  {
   "cell_type": "code",
   "execution_count": 13,
   "id": "a5c903a1",
   "metadata": {
    "tags": []
   },
   "outputs": [],
   "source": [
    "plt.style.use('dark_background')\n"
   ]
  },
  {
   "cell_type": "code",
   "execution_count": 14,
   "id": "689cd957",
   "metadata": {
    "tags": []
   },
   "outputs": [
    {
     "data": {
      "text/plain": [
       "<Axes: xlabel='daily_study_hours', ylabel='weekly_study_hours'>"
      ]
     },
     "execution_count": 14,
     "metadata": {},
     "output_type": "execute_result"
    },
    {
     "data": {
      "image/png": "[encoded data removed]",
      "text/plain": [
       "<Figure size 800x600 with 2 Axes>"
      ]
     },
     "metadata": {},
     "output_type": "display_data"
    }
   ],
   "source": [
    "data.plot(kind = 'scatter',\n",
    "          x = 'daily_study_hours',\n",
    "          y = 'weekly_study_hours',\n",
    "          alpha = 0.9,\n",
    "          c = 'daily_study_hours',\n",
    "          cmap = plt.get_cmap('jet'),\n",
    "          figsize =(8,6),\n",
    "          s = data.daily_study_hours *50,\n",
    "          \n",
    ")"
   ]
  },
  {
   "cell_type": "code",
   "execution_count": 15,
   "id": "ddb30e0d",
   "metadata": {
    "tags": []
   },
   "outputs": [
    {
     "data": {
      "image/png": "[encoded data removed]",
      "text/plain": [
       "<Figure size 640x480 with 1 Axes>"
      ]
     },
     "metadata": {},
     "output_type": "display_data"
    }
   ],
   "source": [
    "study_hours_sum\n",
    "plt.title('Line plot')\n",
    "plt.ylabel('Number of study hours')\n",
    "# plt.xlabel('Days')\n",
    "plt.plot(study_hours_sum, color = 'yellow', linewidth=5)\n",
    "plt.show()"
   ]
  },
  {
   "cell_type": "code",
   "execution_count": 16,
   "id": "44a2d473",
   "metadata": {
    "tags": []
   },
   "outputs": [],
   "source": [
    "arr = np.arange(1, 121)"
   ]
  },
  {
   "cell_type": "code",
   "execution_count": 17,
   "id": "f4033490",
   "metadata": {
    "tags": []
   },
   "outputs": [
    {
     "data": {
      "text/plain": [
       "array([  1,   2,   3,   4,   5,   6,   7,   8,   9,  10,  11,  12,  13,\n",
       "        14,  15,  16,  17,  18,  19,  20,  21,  22,  23,  24,  25,  26,\n",
       "        27,  28,  29,  30,  31,  32,  33,  34,  35,  36,  37,  38,  39,\n",
       "        40,  41,  42,  43,  44,  45,  46,  47,  48,  49,  50,  51,  52,\n",
       "        53,  54,  55,  56,  57,  58,  59,  60,  61,  62,  63,  64,  65,\n",
       "        66,  67,  68,  69,  70,  71,  72,  73,  74,  75,  76,  77,  78,\n",
       "        79,  80,  81,  82,  83,  84,  85,  86,  87,  88,  89,  90,  91,\n",
       "        92,  93,  94,  95,  96,  97,  98,  99, 100, 101, 102, 103, 104,\n",
       "       105, 106, 107, 108, 109, 110, 111, 112, 113, 114, 115, 116, 117,\n",
       "       118, 119, 120])"
      ]
     },
     "execution_count": 17,
     "metadata": {},
     "output_type": "execute_result"
    }
   ],
   "source": [
    "arr"
   ]
  },
  {
   "cell_type": "code",
   "execution_count": 22,
   "id": "d36b0bdc",
   "metadata": {
    "tags": []
   },
   "outputs": [
    {
     "data": {
      "text/plain": [
       "1"
      ]
     },
     "execution_count": 22,
     "metadata": {},
     "output_type": "execute_result"
    }
   ],
   "source": [
    "arr.ndim"
   ]
  },
  {
   "cell_type": "code",
   "execution_count": 18,
   "id": "c6929126",
   "metadata": {
    "tags": []
   },
   "outputs": [],
   "source": [
    "matt = mat.flatten()"
   ]
  },
  {
   "cell_type": "code",
   "execution_count": 19,
   "id": "fa406f69",
   "metadata": {
    "tags": []
   },
   "outputs": [
    {
     "data": {
      "text/plain": [
       "array([2.4 , 4.45, 6.2 , 2.45, 2.45, 6.  , 4.45, 4.35, 4.  , 5.  , 6.1 ,\n",
       "       6.4 , 3.  , 4.  , 8.  , 5.25, 3.1 , 3.3 , 3.3 , 6.5 , 6.5 , 7.  ,\n",
       "       5.15, 7.  , 7.25, 5.  , 4.35, 2.5 , 5.5 , 6.3 , 4.3 , 8.4 , 6.4 ,\n",
       "       4.3 , 5.  , 5.15, 3.4 , 3.5 , 5.  , 4.15, 8.45, 2.45, 6.  , 3.  ,\n",
       "       5.  , 6.1 , 5.2 , 5.  , 1.45, 6.15, 5.15, 6.  , 4.  , 7.15, 5.15,\n",
       "       7.  , 2.  , 4.  , 1.3 , 1.3 , 5.3 , 5.3 , 4.45, 4.3 , 3.15, 3.15,\n",
       "       3.3 , 5.3 , 5.45, 5.  , 5.  , 4.  , 3.3 , 3.3 , 6.15, 6.  , 6.2 ,\n",
       "       2.45, 2.3 , 3.45, 4.5 , 4.  , 2.35, 6.15, 6.  , 5.15, 3.  , 5.  ,\n",
       "       3.45, 6.15, 3.3 , 2.3 , 6.  , 4.1 , 3.  , 3.  , 3.  , 4.  , 2.2 ,\n",
       "       2.35, 4.  , 2.  , 2.  , 3.  , 2.4 , 5.  , 2.  , 4.  , 2.  , 2.  ,\n",
       "       2.3 , 3.  , 2.  , 4.3 , 4.15, 4.  , 5.  , 4.  , 6.  , 5.  ])"
      ]
     },
     "execution_count": 19,
     "metadata": {},
     "output_type": "execute_result"
    }
   ],
   "source": [
    "matt"
   ]
  },
  {
   "cell_type": "code",
   "execution_count": 25,
   "id": "60d41277",
   "metadata": {
    "tags": []
   },
   "outputs": [
    {
     "data": {
      "text/plain": [
       "1"
      ]
     },
     "execution_count": 25,
     "metadata": {},
     "output_type": "execute_result"
    }
   ],
   "source": [
    "matt.ndim"
   ]
  },
  {
   "cell_type": "code",
   "execution_count": 20,
   "id": "a58310ba",
   "metadata": {
    "tags": []
   },
   "outputs": [
    {
     "data": {
      "image/png": "[encoded data removed]",
      "text/plain": [
       "<Figure size 640x480 with 1 Axes>"
      ]
     },
     "metadata": {},
     "output_type": "display_data"
    }
   ],
   "source": [
    "plt.figure()\n",
    "plt.barh(arr, matt, color='red')\n",
    "plt.xlabel('Number of study hours per day')\n",
    "plt.ylabel('Days')\n",
    "plt.title('Broken Bar Graph for number of study hours')\n",
    "plt.show()"
   ]
  },
  {
   "cell_type": "code",
   "execution_count": null,
   "id": "b81d666b-aace-41eb-acc5-6068b4f25ae7",
   "metadata": {},
   "outputs": [],
   "source": []
  }
 ],
 "metadata": {
  "kernelspec": {
   "display_name": "Python 3 (ipykernel)",
   "language": "python",
   "name": "python3"
  },
  "language_info": {
   "codemirror_mode": {
    "name": "ipython",
    "version": 3
   },
   "file_extension": ".py",
   "mimetype": "text/x-python",
   "name": "python",
   "nbconvert_exporter": "python",
   "pygments_lexer": "ipython3",
   "version": "3.11.3"
  }
 },
 "nbformat": 4,
 "nbformat_minor": 5
}
